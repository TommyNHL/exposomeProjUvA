{
 "cells": [
  {
   "cell_type": "code",
   "execution_count": 1,
   "id": "36090c44",
   "metadata": {},
   "outputs": [],
   "source": [
    "from scipy import stats\n",
    "import plotly.express as px\n",
    "import plotly.graph_objects as go\n",
    "import numpy as np\n",
    "import xlwings as xw\n",
    "import pandas as pd\n",
    "import matplotlib.pyplot as plt\n",
    "from matplotlib.ticker import FormatStrFormatter\n",
    "import math"
   ]
  },
  {
   "cell_type": "code",
   "execution_count": 2,
   "id": "540f167e",
   "metadata": {},
   "outputs": [],
   "source": [
    "wb = xw.Book('D:\\Published\\exposomeProjUvA\\hyperparameterTuning_modelSelection_KNN_noFilterSummary_Im.xlsx')"
   ]
  },
  {
   "cell_type": "code",
   "execution_count": 3,
   "id": "15cb20ba",
   "metadata": {},
   "outputs": [],
   "source": [
    "sheet = wb.sheets(\"sheet1\").used_range.value\n",
    "df = pd.DataFrame(sheet)"
   ]
  },
  {
   "cell_type": "code",
   "execution_count": 4,
   "id": "bfec2a12",
   "metadata": {},
   "outputs": [],
   "source": [
    "col = list(df.iloc[0][14:22])"
   ]
  },
  {
   "cell_type": "code",
   "execution_count": 5,
   "id": "cb295dde",
   "metadata": {},
   "outputs": [],
   "source": [
    "col_sd = list(df.iloc[0][22:30])"
   ]
  },
  {
   "cell_type": "code",
   "execution_count": 6,
   "id": "d5efb765",
   "metadata": {},
   "outputs": [],
   "source": [
    "data = df.iloc[-1][14:22]"
   ]
  },
  {
   "cell_type": "code",
   "execution_count": 7,
   "id": "bb2618c3",
   "metadata": {},
   "outputs": [],
   "source": [
    "data = [float(i) for i in data]"
   ]
  },
  {
   "cell_type": "code",
   "execution_count": 8,
   "id": "ce497c0a",
   "metadata": {},
   "outputs": [],
   "source": [
    "data_sd = df.iloc[-1][22:30]"
   ]
  },
  {
   "cell_type": "code",
   "execution_count": 9,
   "id": "dc2a1059",
   "metadata": {},
   "outputs": [],
   "source": [
    "data_sd = [float(i) for i in data_sd]"
   ]
  },
  {
   "cell_type": "code",
   "execution_count": 17,
   "id": "b4f6d867",
   "metadata": {
    "scrolled": false
   },
   "outputs": [],
   "source": [
    "width = 8\n",
    "height = 10\n",
    "plt.figure(figsize=(width, height))\n",
    "plt.bar(col, data, color='plum')\n",
    "plt.ylabel('Feature Permutation Importance', size = 15)\n",
    "#plt.xlabel('Inhibitor concentration (uM)')\n",
    "#plt.ylabel('Viability %')\n",
    "plt.xticks(size = 14)\n",
    "plt.yticks(size = 14)\n",
    "plt.xticks(rotation=45, ha='right')\n",
    "#plt.gca().invert_yaxis()\n",
    "plt.errorbar(col, data, yerr = data_sd, fmt='o', color='black', elinewidth=2, capthick=2, errorevery=1, alpha=0.5, ms=3, capsize = 5)\n",
    "plt.tight_layout(pad=1.08, h_pad=None, w_pad=None, rect=None)\n",
    "plt.savefig('Fig3Im.png', dpi=600)#, transparent=True)\n",
    "plt.close()"
   ]
  },
  {
   "cell_type": "code",
   "execution_count": null,
   "id": "b6cb7de4",
   "metadata": {},
   "outputs": [],
   "source": []
  }
 ],
 "metadata": {
  "kernelspec": {
   "display_name": "Python 3 (ipykernel)",
   "language": "python",
   "name": "python3"
  },
  "language_info": {
   "codemirror_mode": {
    "name": "ipython",
    "version": 3
   },
   "file_extension": ".py",
   "mimetype": "text/x-python",
   "name": "python",
   "nbconvert_exporter": "python",
   "pygments_lexer": "ipython3",
   "version": "3.9.13"
  }
 },
 "nbformat": 4,
 "nbformat_minor": 5
}

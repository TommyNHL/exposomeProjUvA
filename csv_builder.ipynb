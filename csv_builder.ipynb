{
 "cells": [
  {
   "cell_type": "markdown",
   "id": "16d379f9",
   "metadata": {},
   "source": [
    "# Install and import libraries"
   ]
  },
  {
   "cell_type": "code",
   "execution_count": 1,
   "id": "1ff41737",
   "metadata": {
    "scrolled": true
   },
   "outputs": [],
   "source": [
    "# Python version 3.9\n",
    "# Java 8\n",
    "# Spark 3.2.0\n",
    "\n",
    "# run below code if it's your first time\n",
    "# !pip install pyspark\n",
    "\n",
    "# If you are using a windows system, you may experience the below error, so hadoop 3.2.2 should be installed\n",
    "# Follow the instructions writen by Jialing"
   ]
  },
  {
   "cell_type": "code",
   "execution_count": 2,
   "id": "c12739df",
   "metadata": {},
   "outputs": [],
   "source": [
    "# run below code if it's your first time\n",
    "\n",
    "# !pip install findspark"
   ]
  },
  {
   "cell_type": "code",
   "execution_count": 3,
   "id": "629c8df9",
   "metadata": {},
   "outputs": [],
   "source": [
    "import glob\n",
    "import pandas as pd\n",
    "import numpy as np\n",
    "from pymsfilereader import MSFileReader"
   ]
  },
  {
   "cell_type": "markdown",
   "id": "3a380587",
   "metadata": {},
   "source": [
    "### Define data path"
   ]
  },
  {
   "cell_type": "code",
   "execution_count": 4,
   "id": "d50939c2",
   "metadata": {},
   "outputs": [],
   "source": [
    "# TODO: change to \\\\ for Windows specific\n",
    "#path = \".\\\\data\"\n",
    "path = r\"F:\\0_RAW_to_CSV\\LiverCancerReproj\\LC_C18\\HKULiver_Post29wk_HCCAMCLiver_LCMS_MiceNL_S08\""
   ]
  },
  {
   "cell_type": "markdown",
   "id": "9caa3165",
   "metadata": {},
   "source": [
    "### Get list of groups"
   ]
  },
  {
   "cell_type": "code",
   "execution_count": 5,
   "id": "1765f442",
   "metadata": {},
   "outputs": [],
   "source": [
    "# TODO: change to \\\\ for Windows specific\n",
    "groups = glob.glob(f\"{path}\\\\*\")"
   ]
  },
  {
   "cell_type": "code",
   "execution_count": 6,
   "id": "0efd503b",
   "metadata": {},
   "outputs": [],
   "source": [
    "def process_one_file(in_file):\n",
    "    rawfile1=MSFileReader(in_file)\n",
    "    frame = []\n",
    "    try:\n",
    "        rawfile=MSFileReader(in_file)\n",
    "        y = int(in_file.split(\"\\\\\")[-1].split('.')[0].split('_')[-1])\n",
    "        file_name = \"_\".join(in_file.split(\"\\\\\")[-1].split('.')[0].split('_')[:-1])\n",
    "    \n",
    "        for i in range(rawfile.FirstSpectrumNumber, rawfile.LastSpectrumNumber + 1):\n",
    "            labels, flags = rawfile.GetLabelData(i)\n",
    "            \n",
    "            cur_df = pd.DataFrame({'filename': file_name, \n",
    "                                   'x': i, \n",
    "                                   'y': y,\n",
    "                                   'mass': labels.mass, \n",
    "                                   'intensity': labels.intensity, \n",
    "                                   'noise': labels.noise, \n",
    "                                   'resolution': labels.resolution})\n",
    "            \n",
    "            frame.append(cur_df)\n",
    "        \n",
    "        return frame\n",
    "    except IOError:\n",
    "        print(\"file error {in_file}\".format(in_file=in_file))"
   ]
  },
  {
   "cell_type": "code",
   "execution_count": 7,
   "id": "74cd6759",
   "metadata": {
    "scrolled": true
   },
   "outputs": [
    {
     "name": "stdout",
     "output_type": "stream",
     "text": [
      "processing file:  F:\\0_RAW_to_CSV\\LiverCancerReproj\\LC_C18\\HKULiver_Post29wk_HCCAMCLiver_LCMS_MiceNL_S08\\HKULiver_Post29wk_HCCAMCLiver_LCMS_MiceNL_S08_001.raw\n"
     ]
    }
   ],
   "source": [
    "count = 0\n",
    "for file in groups:\n",
    "    print(\"processing file: \", file)\n",
    "    to_csv = process_one_file(in_file=file)\n",
    "    to_csv1=to_csv[0]\n",
    "    for i in range(1,len(to_csv)):\n",
    "        cat = to_csv[i] #.drop(columns=[\"y\",\"filename\", \"resolution\"])\n",
    "        to_csv1 = pd.concat([to_csv1, cat])\n",
    "    if count == 0:\n",
    "        big_cat = to_csv1\n",
    "        count += 1\n",
    "    elif count > 0:\n",
    "        big_cat = pd.concat([big_cat, to_csv1])"
   ]
  },
  {
   "cell_type": "code",
   "execution_count": 8,
   "id": "ed6d8a1b",
   "metadata": {},
   "outputs": [],
   "source": [
    "big_cat.to_csv(r'F:\\0_RAW_to_CSV\\LiverCancerReproj\\LC_C18\\HKULiver_Post29wk_HCCAMCLiver_LCMS_MiceNL_S08\\HKULiver_Post29wk_HCCAMCLiver_LCMS_MiceNL_S08.csv')"
   ]
  },
  {
   "cell_type": "code",
   "execution_count": null,
   "id": "e4de7010",
   "metadata": {},
   "outputs": [],
   "source": []
  }
 ],
 "metadata": {
  "kernelspec": {
   "display_name": "Python 3 (ipykernel)",
   "language": "python",
   "name": "python3"
  },
  "language_info": {
   "codemirror_mode": {
    "name": "ipython",
    "version": 3
   },
   "file_extension": ".py",
   "mimetype": "text/x-python",
   "name": "python",
   "nbconvert_exporter": "python",
   "pygments_lexer": "ipython3",
   "version": "3.9.12"
  }
 },
 "nbformat": 4,
 "nbformat_minor": 5
}
